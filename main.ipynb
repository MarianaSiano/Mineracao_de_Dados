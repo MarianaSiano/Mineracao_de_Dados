{
 "cells": [
  {
   "cell_type": "code",
   "execution_count": 3,
   "metadata": {},
   "outputs": [],
   "source": [
    "!%pip install pandas"
   ]
  },
  {
   "cell_type": "code",
   "execution_count": 13,
   "metadata": {},
   "outputs": [
    {
     "name": "stdout",
     "output_type": "stream",
     "text": [
      "     Candidate ID Name  Number of characters in Original Name Month of Birth  \\\n",
      "0            1131  PtS                                     13            FEB   \n",
      "1             130  AyS                                     11            NOV   \n",
      "2             882  CiK                                     13            MAR   \n",
      "3              28  AhS                                     12            MAR   \n",
      "4             239  MnV                                     25            NOV   \n",
      "..            ...  ...                                    ...            ...   \n",
      "464          1210  AlY                                     11            SEP   \n",
      "465          1268  BaS                                     21            JAN   \n",
      "466           229  AhR                                      8            NOV   \n",
      "467          1181  SiR                                      9            JUN   \n",
      "468          1126  ShS                                     12            NOV   \n",
      "\n",
      "    Year of Birth Gender State (Location)   10th percentage   12th percentage  \\\n",
      "0              Y7      A                N             83.80             84.00   \n",
      "1              Y7      B                D             84.40             77.00   \n",
      "2              Y8      B                N             86.26             62.83   \n",
      "3              Y8      A                F             81.00             72.00   \n",
      "4              Y7      A                E             62.92             68.00   \n",
      "..            ...    ...              ...               ...               ...   \n",
      "464            Y7      A                T             67.00             75.60   \n",
      "465            Y3      A                E             83.20             83.33   \n",
      "466            Y7      A                D             82.20             81.20   \n",
      "467            Y8      B                A             89.45             96.25   \n",
      "468            Y6      B                M             86.20             80.40   \n",
      "\n",
      "    10th Completion Year  ... Quantitative Ability 3 Quantitative Ability 4  \\\n",
      "0                    Y13  ...              65.363128              63.005780   \n",
      "1                    Y14  ...              56.424581              65.317919   \n",
      "2                    Y14  ...              50.837989              52.601156   \n",
      "3                    Y14  ...              55.307263              56.069364   \n",
      "4                    Y14  ...              38.547486              61.849711   \n",
      "..                   ...  ...                    ...                    ...   \n",
      "464                  Y14  ...              70.949721              69.942197   \n",
      "465                  Y10  ...              69.832402              60.693642   \n",
      "466                  Y14  ...              73.184358              67.630058   \n",
      "467                  Y14  ...              75.418994              67.630058   \n",
      "468                  Y13  ...              43.016760              66.473988   \n",
      "\n",
      "      Domain Skills 1  Domain Skills 2 Domain Test 3  Domain Test 4  \\\n",
      "0    48.2142857142857        68.345324     68.275862      59.124088   \n",
      "1                  50        66.906475     68.275862      60.583942   \n",
      "2    46.4285714285714        56.834532     72.413793      64.963504   \n",
      "3    35.7142857142857        53.956835     71.034483      50.364964   \n",
      "4    19.6428571428571        39.568345     43.448276      62.043796   \n",
      "..                ...              ...           ...            ...   \n",
      "464  67.8571428571429        81.294964     68.275862      82.481752   \n",
      "465  51.7857142857143        56.834532     80.689655      66.423358   \n",
      "466  58.9285714285714        82.733813     58.620690      70.802920   \n",
      "467  48.2142857142857        59.712230     64.137931      78.102190   \n",
      "468  26.7857142857143        58.273381     36.551724      51.824818   \n",
      "\n",
      "     Analytical Skills 1  Analytical Skills 2  Analytical Skills 3 Performance  \n",
      "0       90.9090909090909            81.012658            95.402299          BP  \n",
      "1       67.2727272727273            88.607595            56.321839          BP  \n",
      "2                     60            79.746835            32.183908          BP  \n",
      "3       47.2727272727273            73.417722            35.632184          BP  \n",
      "4       45.4545454545455            60.759494            40.229885          BP  \n",
      "..                   ...                  ...                  ...         ...  \n",
      "464     78.1818181818182            68.354430            81.609195          LP  \n",
      "465     67.2727272727273            73.417722            63.218391          MP  \n",
      "466                   40            50.632911            35.632184          BP  \n",
      "467     76.3636363636364            68.354430            81.609195          BP  \n",
      "468     70.9090909090909            60.759494            77.011494          BP  \n",
      "\n",
      "[469 rows x 31 columns]\n"
     ]
    }
   ],
   "source": [
    "import pandas as pd\n",
    "\n",
    "dados = pd.read_csv('data/trabalho2_dados_grupo-08.csv')\n",
    "\n",
    "print(dados)"
   ]
  }
 ],
 "metadata": {
  "kernelspec": {
   "display_name": "Python 3.8.10 ('venv': venv)",
   "language": "python",
   "name": "python3"
  },
  "language_info": {
   "codemirror_mode": {
    "name": "ipython",
    "version": 3
   },
   "file_extension": ".py",
   "mimetype": "text/x-python",
   "name": "python",
   "nbconvert_exporter": "python",
   "pygments_lexer": "ipython3",
   "version": "3.8.10"
  },
  "orig_nbformat": 4,
  "vscode": {
   "interpreter": {
    "hash": "2f402e7ef64a649ca8aedff2a33078a26a71fd44c6a633b15f6bd3a04f4e8bac"
   }
  }
 },
 "nbformat": 4,
 "nbformat_minor": 2
}
